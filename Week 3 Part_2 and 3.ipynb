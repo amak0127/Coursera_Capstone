{
 "cells": [
  {
   "cell_type": "markdown",
   "metadata": {},
   "source": [
    "### Loading Required Libraries"
   ]
  },
  {
   "cell_type": "code",
   "execution_count": 66,
   "metadata": {},
   "outputs": [
    {
     "name": "stdout",
     "output_type": "stream",
     "text": [
      "Collecting package metadata (current_repodata.json): ...working... done\n",
      "Solving environment: ...working... done\n",
      "\n",
      "# All requested packages already installed.\n",
      "\n",
      "Collecting package metadata (current_repodata.json): ...working... done\n",
      "Solving environment: ...working... done\n",
      "\n",
      "# All requested packages already installed.\n",
      "\n",
      "Libraries imported.\n"
     ]
    }
   ],
   "source": [
    "import numpy as np # library to handle data in a vectorized manner\n",
    "\n",
    "import pandas as pd # library for data analsysis\n",
    "\n",
    "import json # library to handle JSON files\n",
    "\n",
    "import requests # library to handle requests\n",
    "\n",
    "from pandas.io.json import json_normalize # tranform JSON file into a pandas dataframe\n",
    "\n",
    "import matplotlib.cm as cm\n",
    "import matplotlib.colors as colors # Matplotlib and associated plotting modules\n",
    "\n",
    "from sklearn.cluster import KMeans # import k-means from clustering stage\n",
    "\n",
    "!conda install -c conda-forge beautifulsoup4 --yes\n",
    "from bs4 import BeautifulSoup # website scraping libraries and packages in Python from BeautifulSoup \n",
    "\n",
    "!conda install -c conda-forge geopy --yes\n",
    "from geopy.geocoders import Nominatim  # convert an address into latitude and longitude values\n",
    "\n",
    "print(\"Libraries imported.\")"
   ]
  },
  {
   "cell_type": "markdown",
   "metadata": {},
   "source": [
    "### Scraping Data from the Web"
   ]
  },
  {
   "cell_type": "code",
   "execution_count": 67,
   "metadata": {},
   "outputs": [],
   "source": [
    "# GET request\n",
    "url = requests.get('https://en.wikipedia.org/wiki/List_of_postal_codes_of_Canada:_M').text\n",
    "\n",
    "soup = BeautifulSoup(url, 'html.parser')"
   ]
  },
  {
   "cell_type": "markdown",
   "metadata": {},
   "source": [
    "### Locating Required table and converting to Pandas Dataframe"
   ]
  },
  {
   "cell_type": "code",
   "execution_count": 68,
   "metadata": {},
   "outputs": [
    {
     "data": {
      "text/html": [
       "<div>\n",
       "<style scoped>\n",
       "    .dataframe tbody tr th:only-of-type {\n",
       "        vertical-align: middle;\n",
       "    }\n",
       "\n",
       "    .dataframe tbody tr th {\n",
       "        vertical-align: top;\n",
       "    }\n",
       "\n",
       "    .dataframe thead th {\n",
       "        text-align: right;\n",
       "    }\n",
       "</style>\n",
       "<table border=\"1\" class=\"dataframe\">\n",
       "  <thead>\n",
       "    <tr style=\"text-align: right;\">\n",
       "      <th></th>\n",
       "      <th>Postcode</th>\n",
       "      <th>Borough</th>\n",
       "      <th>Neighbourhood</th>\n",
       "    </tr>\n",
       "  </thead>\n",
       "  <tbody>\n",
       "    <tr>\n",
       "      <th>0</th>\n",
       "      <td>M1A</td>\n",
       "      <td>Not assigned</td>\n",
       "      <td></td>\n",
       "    </tr>\n",
       "    <tr>\n",
       "      <th>1</th>\n",
       "      <td>M2A</td>\n",
       "      <td>Not assigned</td>\n",
       "      <td></td>\n",
       "    </tr>\n",
       "    <tr>\n",
       "      <th>2</th>\n",
       "      <td>M3A</td>\n",
       "      <td>North York</td>\n",
       "      <td>Parkwoods</td>\n",
       "    </tr>\n",
       "    <tr>\n",
       "      <th>3</th>\n",
       "      <td>M4A</td>\n",
       "      <td>North York</td>\n",
       "      <td>Victoria Village</td>\n",
       "    </tr>\n",
       "    <tr>\n",
       "      <th>4</th>\n",
       "      <td>M5A</td>\n",
       "      <td>Downtown Toronto</td>\n",
       "      <td>Regent Park, Harbourfront</td>\n",
       "    </tr>\n",
       "  </tbody>\n",
       "</table>\n",
       "</div>"
      ],
      "text/plain": [
       "  Postcode           Borough              Neighbourhood\n",
       "0      M1A      Not assigned                           \n",
       "1      M2A      Not assigned                           \n",
       "2      M3A        North York                  Parkwoods\n",
       "3      M4A        North York           Victoria Village\n",
       "4      M5A  Downtown Toronto  Regent Park, Harbourfront"
      ]
     },
     "execution_count": 68,
     "metadata": {},
     "output_type": "execute_result"
    }
   ],
   "source": [
    "table_data = soup.find('table')\n",
    "all_fields = table_data.find_all('td')\n",
    "\n",
    "postcode = []\n",
    "borough = []\n",
    "neighbourhood = []\n",
    "\n",
    "for i in range(0, len(all_fields), 3):\n",
    "    postcode.append(all_fields[i].text.strip())\n",
    "    borough.append(all_fields[i+1].text.strip())\n",
    "    neighbourhood.append(all_fields[i+2].text.strip())\n",
    "        \n",
    "toronto_df = pd.DataFrame(data=[postcode, borough, neighbourhood]).transpose()\n",
    "toronto_df.columns = ['Postcode', 'Borough', 'Neighbourhood']\n",
    "toronto_df.head()"
   ]
  },
  {
   "cell_type": "markdown",
   "metadata": {},
   "source": [
    "### Removing \"Not Assigned\" Boroughs from the dataframe"
   ]
  },
  {
   "cell_type": "code",
   "execution_count": 69,
   "metadata": {},
   "outputs": [
    {
     "data": {
      "text/html": [
       "<div>\n",
       "<style scoped>\n",
       "    .dataframe tbody tr th:only-of-type {\n",
       "        vertical-align: middle;\n",
       "    }\n",
       "\n",
       "    .dataframe tbody tr th {\n",
       "        vertical-align: top;\n",
       "    }\n",
       "\n",
       "    .dataframe thead th {\n",
       "        text-align: right;\n",
       "    }\n",
       "</style>\n",
       "<table border=\"1\" class=\"dataframe\">\n",
       "  <thead>\n",
       "    <tr style=\"text-align: right;\">\n",
       "      <th></th>\n",
       "      <th>Postcode</th>\n",
       "      <th>Borough</th>\n",
       "      <th>Neighbourhood</th>\n",
       "    </tr>\n",
       "  </thead>\n",
       "  <tbody>\n",
       "    <tr>\n",
       "      <th>2</th>\n",
       "      <td>M3A</td>\n",
       "      <td>North York</td>\n",
       "      <td>Parkwoods</td>\n",
       "    </tr>\n",
       "    <tr>\n",
       "      <th>3</th>\n",
       "      <td>M4A</td>\n",
       "      <td>North York</td>\n",
       "      <td>Victoria Village</td>\n",
       "    </tr>\n",
       "    <tr>\n",
       "      <th>4</th>\n",
       "      <td>M5A</td>\n",
       "      <td>Downtown Toronto</td>\n",
       "      <td>Regent Park, Harbourfront</td>\n",
       "    </tr>\n",
       "    <tr>\n",
       "      <th>5</th>\n",
       "      <td>M6A</td>\n",
       "      <td>North York</td>\n",
       "      <td>Lawrence Manor, Lawrence Heights</td>\n",
       "    </tr>\n",
       "    <tr>\n",
       "      <th>6</th>\n",
       "      <td>M7A</td>\n",
       "      <td>Downtown Toronto</td>\n",
       "      <td>Queen's Park, Ontario Provincial Government</td>\n",
       "    </tr>\n",
       "  </tbody>\n",
       "</table>\n",
       "</div>"
      ],
      "text/plain": [
       "  Postcode           Borough                                Neighbourhood\n",
       "2      M3A        North York                                    Parkwoods\n",
       "3      M4A        North York                             Victoria Village\n",
       "4      M5A  Downtown Toronto                    Regent Park, Harbourfront\n",
       "5      M6A        North York             Lawrence Manor, Lawrence Heights\n",
       "6      M7A  Downtown Toronto  Queen's Park, Ontario Provincial Government"
      ]
     },
     "execution_count": 69,
     "metadata": {},
     "output_type": "execute_result"
    }
   ],
   "source": [
    "toronto_df['Borough'].replace('Not assigned', np.nan, inplace=True)\n",
    "toronto_df.dropna(subset=['Borough'], inplace=True)\n",
    "\n",
    "toronto_df.head()"
   ]
  },
  {
   "cell_type": "markdown",
   "metadata": {},
   "source": [
    "### Grpuping the Neighbourhoods by Boroughs"
   ]
  },
  {
   "cell_type": "code",
   "execution_count": 70,
   "metadata": {},
   "outputs": [
    {
     "data": {
      "text/html": [
       "<div>\n",
       "<style scoped>\n",
       "    .dataframe tbody tr th:only-of-type {\n",
       "        vertical-align: middle;\n",
       "    }\n",
       "\n",
       "    .dataframe tbody tr th {\n",
       "        vertical-align: top;\n",
       "    }\n",
       "\n",
       "    .dataframe thead th {\n",
       "        text-align: right;\n",
       "    }\n",
       "</style>\n",
       "<table border=\"1\" class=\"dataframe\">\n",
       "  <thead>\n",
       "    <tr style=\"text-align: right;\">\n",
       "      <th></th>\n",
       "      <th>Postcode</th>\n",
       "      <th>Borough</th>\n",
       "      <th>Neighbourhood</th>\n",
       "    </tr>\n",
       "  </thead>\n",
       "  <tbody>\n",
       "    <tr>\n",
       "      <th>0</th>\n",
       "      <td>M1B</td>\n",
       "      <td>Scarborough</td>\n",
       "      <td>Malvern, Rouge</td>\n",
       "    </tr>\n",
       "    <tr>\n",
       "      <th>1</th>\n",
       "      <td>M1C</td>\n",
       "      <td>Scarborough</td>\n",
       "      <td>Rouge Hill, Port Union, Highland Creek</td>\n",
       "    </tr>\n",
       "    <tr>\n",
       "      <th>2</th>\n",
       "      <td>M1E</td>\n",
       "      <td>Scarborough</td>\n",
       "      <td>Guildwood, Morningside, West Hill</td>\n",
       "    </tr>\n",
       "    <tr>\n",
       "      <th>3</th>\n",
       "      <td>M1G</td>\n",
       "      <td>Scarborough</td>\n",
       "      <td>Woburn</td>\n",
       "    </tr>\n",
       "    <tr>\n",
       "      <th>4</th>\n",
       "      <td>M1H</td>\n",
       "      <td>Scarborough</td>\n",
       "      <td>Cedarbrae</td>\n",
       "    </tr>\n",
       "    <tr>\n",
       "      <th>...</th>\n",
       "      <td>...</td>\n",
       "      <td>...</td>\n",
       "      <td>...</td>\n",
       "    </tr>\n",
       "    <tr>\n",
       "      <th>98</th>\n",
       "      <td>M9N</td>\n",
       "      <td>York</td>\n",
       "      <td>Weston</td>\n",
       "    </tr>\n",
       "    <tr>\n",
       "      <th>99</th>\n",
       "      <td>M9P</td>\n",
       "      <td>Etobicoke</td>\n",
       "      <td>Westmount</td>\n",
       "    </tr>\n",
       "    <tr>\n",
       "      <th>100</th>\n",
       "      <td>M9R</td>\n",
       "      <td>Etobicoke</td>\n",
       "      <td>Kingsview Village, St. Phillips, Martin Grove ...</td>\n",
       "    </tr>\n",
       "    <tr>\n",
       "      <th>101</th>\n",
       "      <td>M9V</td>\n",
       "      <td>Etobicoke</td>\n",
       "      <td>South Steeles, Silverstone, Humbergate, Jamest...</td>\n",
       "    </tr>\n",
       "    <tr>\n",
       "      <th>102</th>\n",
       "      <td>M9W</td>\n",
       "      <td>Etobicoke</td>\n",
       "      <td>Northwest</td>\n",
       "    </tr>\n",
       "  </tbody>\n",
       "</table>\n",
       "<p>103 rows × 3 columns</p>\n",
       "</div>"
      ],
      "text/plain": [
       "    Postcode      Borough                                      Neighbourhood\n",
       "0        M1B  Scarborough                                     Malvern, Rouge\n",
       "1        M1C  Scarborough             Rouge Hill, Port Union, Highland Creek\n",
       "2        M1E  Scarborough                  Guildwood, Morningside, West Hill\n",
       "3        M1G  Scarborough                                             Woburn\n",
       "4        M1H  Scarborough                                          Cedarbrae\n",
       "..       ...          ...                                                ...\n",
       "98       M9N         York                                             Weston\n",
       "99       M9P    Etobicoke                                          Westmount\n",
       "100      M9R    Etobicoke  Kingsview Village, St. Phillips, Martin Grove ...\n",
       "101      M9V    Etobicoke  South Steeles, Silverstone, Humbergate, Jamest...\n",
       "102      M9W    Etobicoke                                          Northwest\n",
       "\n",
       "[103 rows x 3 columns]"
      ]
     },
     "execution_count": 70,
     "metadata": {},
     "output_type": "execute_result"
    }
   ],
   "source": [
    "toronto_df_new = toronto_df.groupby(['Postcode', 'Borough'])['Neighbourhood'].apply(', '.join).reset_index()\n",
    "toronto_df_new.columns = ['Postcode', 'Borough', 'Neighbourhood']\n",
    "toronto_df_new"
   ]
  },
  {
   "cell_type": "code",
   "execution_count": 71,
   "metadata": {},
   "outputs": [
    {
     "data": {
      "text/plain": [
       "(103, 3)"
      ]
     },
     "execution_count": 71,
     "metadata": {},
     "output_type": "execute_result"
    }
   ],
   "source": [
    "toronto_df_new.shape\n"
   ]
  },
  {
   "cell_type": "markdown",
   "metadata": {},
   "source": [
    "### Adding Latitude and Logitude information for the Boroughs"
   ]
  },
  {
   "cell_type": "code",
   "execution_count": 74,
   "metadata": {},
   "outputs": [],
   "source": [
    "df_geo = pd.read_csv('http://cocl.us/Geospatial_data')\n",
    "df_geo.columns = ['Postcode', 'Latitude', 'Longitude']"
   ]
  },
  {
   "cell_type": "code",
   "execution_count": 75,
   "metadata": {},
   "outputs": [
    {
     "data": {
      "text/html": [
       "<div>\n",
       "<style scoped>\n",
       "    .dataframe tbody tr th:only-of-type {\n",
       "        vertical-align: middle;\n",
       "    }\n",
       "\n",
       "    .dataframe tbody tr th {\n",
       "        vertical-align: top;\n",
       "    }\n",
       "\n",
       "    .dataframe thead th {\n",
       "        text-align: right;\n",
       "    }\n",
       "</style>\n",
       "<table border=\"1\" class=\"dataframe\">\n",
       "  <thead>\n",
       "    <tr style=\"text-align: right;\">\n",
       "      <th></th>\n",
       "      <th>Borough</th>\n",
       "      <th>Neighbourhood</th>\n",
       "      <th>Postcode</th>\n",
       "      <th>Latitude</th>\n",
       "      <th>Longitude</th>\n",
       "    </tr>\n",
       "  </thead>\n",
       "  <tbody>\n",
       "    <tr>\n",
       "      <th>0</th>\n",
       "      <td>Scarborough</td>\n",
       "      <td>Malvern, Rouge</td>\n",
       "      <td>M1B</td>\n",
       "      <td>43.806686</td>\n",
       "      <td>-79.194353</td>\n",
       "    </tr>\n",
       "    <tr>\n",
       "      <th>1</th>\n",
       "      <td>Scarborough</td>\n",
       "      <td>Rouge Hill, Port Union, Highland Creek</td>\n",
       "      <td>M1C</td>\n",
       "      <td>43.784535</td>\n",
       "      <td>-79.160497</td>\n",
       "    </tr>\n",
       "    <tr>\n",
       "      <th>2</th>\n",
       "      <td>Scarborough</td>\n",
       "      <td>Guildwood, Morningside, West Hill</td>\n",
       "      <td>M1E</td>\n",
       "      <td>43.763573</td>\n",
       "      <td>-79.188711</td>\n",
       "    </tr>\n",
       "    <tr>\n",
       "      <th>3</th>\n",
       "      <td>Scarborough</td>\n",
       "      <td>Woburn</td>\n",
       "      <td>M1G</td>\n",
       "      <td>43.770992</td>\n",
       "      <td>-79.216917</td>\n",
       "    </tr>\n",
       "    <tr>\n",
       "      <th>4</th>\n",
       "      <td>Scarborough</td>\n",
       "      <td>Cedarbrae</td>\n",
       "      <td>M1H</td>\n",
       "      <td>43.773136</td>\n",
       "      <td>-79.239476</td>\n",
       "    </tr>\n",
       "  </tbody>\n",
       "</table>\n",
       "</div>"
      ],
      "text/plain": [
       "       Borough                           Neighbourhood Postcode   Latitude  \\\n",
       "0  Scarborough                          Malvern, Rouge      M1B  43.806686   \n",
       "1  Scarborough  Rouge Hill, Port Union, Highland Creek      M1C  43.784535   \n",
       "2  Scarborough       Guildwood, Morningside, West Hill      M1E  43.763573   \n",
       "3  Scarborough                                  Woburn      M1G  43.770992   \n",
       "4  Scarborough                               Cedarbrae      M1H  43.773136   \n",
       "\n",
       "   Longitude  \n",
       "0 -79.194353  \n",
       "1 -79.160497  \n",
       "2 -79.188711  \n",
       "3 -79.216917  \n",
       "4 -79.239476  "
      ]
     },
     "execution_count": 75,
     "metadata": {},
     "output_type": "execute_result"
    }
   ],
   "source": [
    "df_pos = pd.merge(toronto_df_new, df_geo, on=['Postcode'], how='inner')\n",
    "\n",
    "df_toronto = df_pos[['Borough', 'Neighbourhood', 'Postcode', 'Latitude', 'Longitude']].copy()\n",
    "\n",
    "df_toronto.head()"
   ]
  },
  {
   "cell_type": "markdown",
   "metadata": {},
   "source": [
    "### Exploring Neighbourhoods of Toronto"
   ]
  },
  {
   "cell_type": "code",
   "execution_count": 76,
   "metadata": {},
   "outputs": [
    {
     "name": "stderr",
     "output_type": "stream",
     "text": [
      "C:\\Users\\ASAD\\anaconda3\\lib\\site-packages\\ipykernel_launcher.py:3: DeprecationWarning: Using Nominatim with the default \"geopy/1.22.0\" `user_agent` is strongly discouraged, as it violates Nominatim's ToS https://operations.osmfoundation.org/policies/nominatim/ and may possibly cause 403 and 429 HTTP errors. Please specify a custom `user_agent` with `Nominatim(user_agent=\"my-application\")` or by overriding the default `user_agent`: `geopy.geocoders.options.default_user_agent = \"my-application\"`. In geopy 2.0 this will become an exception.\n",
      "  This is separate from the ipykernel package so we can avoid doing imports until\n"
     ]
    },
    {
     "name": "stdout",
     "output_type": "stream",
     "text": [
      "The geograpical coordinate of the City of Toronto are 43.6534817, -79.3839347.\n"
     ]
    }
   ],
   "source": [
    "address = 'Toronto, Canada'\n",
    "\n",
    "geolocator = Nominatim()\n",
    "location = geolocator.geocode(address)\n",
    "latitude = location.latitude\n",
    "longitude = location.longitude\n",
    "print('The geograpical coordinate of the City of Toronto are {}, {}.'.format(latitude, longitude))"
   ]
  },
  {
   "cell_type": "code",
   "execution_count": 77,
   "metadata": {},
   "outputs": [
    {
     "name": "stdout",
     "output_type": "stream",
     "text": [
      "Requirement already satisfied: folium in c:\\users\\asad\\anaconda3\\lib\\site-packages (0.11.0)\n",
      "Requirement already satisfied: numpy in c:\\users\\asad\\anaconda3\\lib\\site-packages (from folium) (1.18.1)\n",
      "Requirement already satisfied: jinja2>=2.9 in c:\\users\\asad\\anaconda3\\lib\\site-packages (from folium) (2.11.1)\n",
      "Requirement already satisfied: requests in c:\\users\\asad\\anaconda3\\lib\\site-packages (from folium) (2.22.0)\n",
      "Requirement already satisfied: branca>=0.3.0 in c:\\users\\asad\\anaconda3\\lib\\site-packages (from folium) (0.4.1)\n",
      "Requirement already satisfied: MarkupSafe>=0.23 in c:\\users\\asad\\anaconda3\\lib\\site-packages (from jinja2>=2.9->folium) (1.1.1)\n",
      "Requirement already satisfied: idna<2.9,>=2.5 in c:\\users\\asad\\anaconda3\\lib\\site-packages (from requests->folium) (2.8)\n",
      "Requirement already satisfied: urllib3!=1.25.0,!=1.25.1,<1.26,>=1.21.1 in c:\\users\\asad\\anaconda3\\lib\\site-packages (from requests->folium) (1.25.8)\n",
      "Requirement already satisfied: chardet<3.1.0,>=3.0.2 in c:\\users\\asad\\anaconda3\\lib\\site-packages (from requests->folium) (3.0.4)\n",
      "Requirement already satisfied: certifi>=2017.4.17 in c:\\users\\asad\\anaconda3\\lib\\site-packages (from requests->folium) (2019.11.28)\n"
     ]
    },
    {
     "data": {
      "text/html": [
       "<div style=\"width:100%;\"><div style=\"position:relative;width:100%;height:0;padding-bottom:60%;\"><span style=\"color:#565656\">Make this Notebook Trusted to load map: File -> Trust Notebook</span><iframe src=\"about:blank\" style=\"position:absolute;width:100%;height:100%;left:0;top:0;border:none !important;\" data-html=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 onload=\"this.contentDocument.open();this.contentDocument.write(atob(this.getAttribute('data-html')));this.contentDocument.close();\" allowfullscreen webkitallowfullscreen mozallowfullscreen></iframe></div></div>"
      ],
      "text/plain": [
       "<folium.folium.Map at 0x2699a422548>"
      ]
     },
     "execution_count": 77,
     "metadata": {},
     "output_type": "execute_result"
    }
   ],
   "source": [
    "!pip install folium\n",
    "import folium\n",
    "\n",
    "# create map of Toronto using latitude and longitude values\n",
    "map_toronto = folium.Map(location=[latitude, longitude], zoom_start=10)\n",
    "\n",
    "# add markers to map\n",
    "for lat, lng, borough, neighborhood in zip(df_tor['Latitude'], df_tor['Longitude'], df_tor['Borough'], df_tor['Neighbourhood']):\n",
    "    label = '{}, {}'.format(neighborhood, borough)\n",
    "    label = folium.Popup(label, parse_html=True)\n",
    "    folium.CircleMarker(\n",
    "        [lat, lng],\n",
    "        radius=3,\n",
    "        popup=label,\n",
    "        color='green',\n",
    "        fill=True,\n",
    "        fill_color='#3199cc',\n",
    "        fill_opacity=0.3,\n",
    "        parse_html=False).add_to(map_toronto)  \n",
    "    \n",
    "map_toronto"
   ]
  },
  {
   "cell_type": "code",
   "execution_count": 78,
   "metadata": {},
   "outputs": [
    {
     "data": {
      "text/html": [
       "<div>\n",
       "<style scoped>\n",
       "    .dataframe tbody tr th:only-of-type {\n",
       "        vertical-align: middle;\n",
       "    }\n",
       "\n",
       "    .dataframe tbody tr th {\n",
       "        vertical-align: top;\n",
       "    }\n",
       "\n",
       "    .dataframe thead th {\n",
       "        text-align: right;\n",
       "    }\n",
       "</style>\n",
       "<table border=\"1\" class=\"dataframe\">\n",
       "  <thead>\n",
       "    <tr style=\"text-align: right;\">\n",
       "      <th></th>\n",
       "      <th>Borough</th>\n",
       "      <th>Neighbourhood</th>\n",
       "      <th>Postcode</th>\n",
       "      <th>Latitude</th>\n",
       "      <th>Longitude</th>\n",
       "    </tr>\n",
       "  </thead>\n",
       "  <tbody>\n",
       "    <tr>\n",
       "      <th>0</th>\n",
       "      <td>East Toronto</td>\n",
       "      <td>The Beaches</td>\n",
       "      <td>M4E</td>\n",
       "      <td>43.676357</td>\n",
       "      <td>-79.293031</td>\n",
       "    </tr>\n",
       "    <tr>\n",
       "      <th>1</th>\n",
       "      <td>East Toronto</td>\n",
       "      <td>The Danforth West, Riverdale</td>\n",
       "      <td>M4K</td>\n",
       "      <td>43.679557</td>\n",
       "      <td>-79.352188</td>\n",
       "    </tr>\n",
       "    <tr>\n",
       "      <th>2</th>\n",
       "      <td>East Toronto</td>\n",
       "      <td>India Bazaar, The Beaches West</td>\n",
       "      <td>M4L</td>\n",
       "      <td>43.668999</td>\n",
       "      <td>-79.315572</td>\n",
       "    </tr>\n",
       "    <tr>\n",
       "      <th>3</th>\n",
       "      <td>East Toronto</td>\n",
       "      <td>Studio District</td>\n",
       "      <td>M4M</td>\n",
       "      <td>43.659526</td>\n",
       "      <td>-79.340923</td>\n",
       "    </tr>\n",
       "    <tr>\n",
       "      <th>4</th>\n",
       "      <td>Central Toronto</td>\n",
       "      <td>Lawrence Park</td>\n",
       "      <td>M4N</td>\n",
       "      <td>43.728020</td>\n",
       "      <td>-79.388790</td>\n",
       "    </tr>\n",
       "  </tbody>\n",
       "</table>\n",
       "</div>"
      ],
      "text/plain": [
       "           Borough                   Neighbourhood Postcode   Latitude  \\\n",
       "0     East Toronto                     The Beaches      M4E  43.676357   \n",
       "1     East Toronto    The Danforth West, Riverdale      M4K  43.679557   \n",
       "2     East Toronto  India Bazaar, The Beaches West      M4L  43.668999   \n",
       "3     East Toronto                 Studio District      M4M  43.659526   \n",
       "4  Central Toronto                   Lawrence Park      M4N  43.728020   \n",
       "\n",
       "   Longitude  \n",
       "0 -79.293031  \n",
       "1 -79.352188  \n",
       "2 -79.315572  \n",
       "3 -79.340923  \n",
       "4 -79.388790  "
      ]
     },
     "execution_count": 78,
     "metadata": {},
     "output_type": "execute_result"
    }
   ],
   "source": [
    "df_toronto_final = df_toronto[df_toronto['Borough'].str.contains('Toronto')]\n",
    "\n",
    "to_data = df_toronto_final.reset_index(drop=True)\n",
    "to_data.head()"
   ]
  },
  {
   "cell_type": "markdown",
   "metadata": {},
   "source": [
    "### Define Foursquare Credentials and Version"
   ]
  },
  {
   "cell_type": "code",
   "execution_count": 79,
   "metadata": {},
   "outputs": [
    {
     "name": "stdout",
     "output_type": "stream",
     "text": [
      "Your credentails:\n",
      "CLIENT_ID: MMXRWWDSXOIM5H5J13OA20ATET3MPUD5DZBMUOEUPL0ETZOC\n",
      "CLIENT_SECRET:3PPMEGIYZKO2HKZX0EUI3RB3SL4KJCL4TXGME20HO54JFJCX\n"
     ]
    }
   ],
   "source": [
    "CLIENT_ID = 'MMXRWWDSXOIM5H5J13OA20ATET3MPUD5DZBMUOEUPL0ETZOC' # Foursquare ID - Hidden due to security reasons\n",
    "CLIENT_SECRET = '3PPMEGIYZKO2HKZX0EUI3RB3SL4KJCL4TXGME20HO54JFJCX' # Foursquare Secret - Hidden due to security reasons\n",
    "VERSION = '20180605' # Foursquare API version\n",
    "\n",
    "print('Your credentails:')\n",
    "print('CLIENT_ID: ' + CLIENT_ID)\n",
    "print('CLIENT_SECRET:' + CLIENT_SECRET)"
   ]
  },
  {
   "cell_type": "code",
   "execution_count": 80,
   "metadata": {},
   "outputs": [
    {
     "data": {
      "text/html": [
       "<div style=\"width:100%;\"><div style=\"position:relative;width:100%;height:0;padding-bottom:60%;\"><span style=\"color:#565656\">Make this Notebook Trusted to load map: File -> Trust Notebook</span><iframe src=\"about:blank\" style=\"position:absolute;width:100%;height:100%;left:0;top:0;border:none !important;\" data-html=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 onload=\"this.contentDocument.open();this.contentDocument.write(atob(this.getAttribute('data-html')));this.contentDocument.close();\" allowfullscreen webkitallowfullscreen mozallowfullscreen></iframe></div></div>"
      ],
      "text/plain": [
       "<folium.folium.Map at 0x2699aab72c8>"
      ]
     },
     "execution_count": 80,
     "metadata": {},
     "output_type": "execute_result"
    }
   ],
   "source": [
    "# create map of Toronto using latitude and longitude values\n",
    "map_tohood = folium.Map(location=[latitude, longitude], zoom_start=10)\n",
    "\n",
    "# add markers to map\n",
    "for lat, lng, borough, neighborhood in zip(to_data['Latitude'], to_data['Longitude'], to_data['Borough'], to_data['Neighbourhood']):\n",
    "    label = '{}, {}'.format(neighborhood, borough)\n",
    "    label = folium.Popup(label, parse_html=True)\n",
    "    folium.CircleMarker(\n",
    "        [lat, lng],\n",
    "        radius=3,\n",
    "        popup=label,\n",
    "        color='green',\n",
    "        fill=True,\n",
    "        fill_color='#3199cc',\n",
    "        fill_opacity=0.3,\n",
    "        parse_html=False).add_to(map_tohood)  \n",
    "    \n",
    "map_tohood"
   ]
  },
  {
   "cell_type": "markdown",
   "metadata": {},
   "source": [
    "### Exploring the first neighbourhood in Toronto"
   ]
  },
  {
   "cell_type": "code",
   "execution_count": 81,
   "metadata": {},
   "outputs": [
    {
     "data": {
      "text/plain": [
       "'The Beaches'"
      ]
     },
     "execution_count": 81,
     "metadata": {},
     "output_type": "execute_result"
    }
   ],
   "source": [
    "to_data.loc[0, 'Neighbourhood']"
   ]
  },
  {
   "cell_type": "markdown",
   "metadata": {},
   "source": [
    "### Getting the Latitude and Longitude for this Location"
   ]
  },
  {
   "cell_type": "code",
   "execution_count": 82,
   "metadata": {},
   "outputs": [
    {
     "name": "stdout",
     "output_type": "stream",
     "text": [
      "Latitude and longitude values of The Beaches are 43.67635739999999, -79.2930312.\n"
     ]
    }
   ],
   "source": [
    "neighbourhood_latitude = to_data.loc[0, 'Latitude'] # neighbourhood latitude value\n",
    "neighbourhood_longitude = to_data.loc[0, 'Longitude'] # neighbourhood longitude value\n",
    "\n",
    "neighbourhood_name = to_data.loc[0, 'Neighbourhood'] # neighbourhood name\n",
    "\n",
    "print('Latitude and longitude values of {} are {}, {}.'.format(neighbourhood_name, \n",
    "                                                               neighbourhood_latitude, \n",
    "                                                               neighbourhood_longitude))"
   ]
  },
  {
   "cell_type": "markdown",
   "metadata": {},
   "source": [
    "### Getting Top 20 Venues within 200 meters of this Location's Centroid"
   ]
  },
  {
   "cell_type": "code",
   "execution_count": 83,
   "metadata": {},
   "outputs": [
    {
     "data": {
      "text/plain": [
       "'https://api.foursquare.com/v2/venues/explore?&client_id=MMXRWWDSXOIM5H5J13OA20ATET3MPUD5DZBMUOEUPL0ETZOC&client_secret=3PPMEGIYZKO2HKZX0EUI3RB3SL4KJCL4TXGME20HO54JFJCX&v=20180605&ll=43.67635739999999,-79.2930312&radius=200&limit=20'"
      ]
     },
     "execution_count": 83,
     "metadata": {},
     "output_type": "execute_result"
    }
   ],
   "source": [
    "LIMIT = 20\n",
    "radius = 200\n",
    "\n",
    "url = 'https://api.foursquare.com/v2/venues/explore?&client_id={}&client_secret={}&v={}&ll={},{}&radius={}&limit={}'.format(\n",
    "    CLIENT_ID, \n",
    "    CLIENT_SECRET, \n",
    "    VERSION, \n",
    "    neighbourhood_latitude, \n",
    "    neighbourhood_longitude, \n",
    "    radius, \n",
    "    LIMIT)\n",
    "url"
   ]
  },
  {
   "cell_type": "code",
   "execution_count": 84,
   "metadata": {},
   "outputs": [
    {
     "data": {
      "text/plain": [
       "{'meta': {'code': 200, 'requestId': '5ec04767ad1ab4001c8ba39c'},\n",
       " 'response': {'warning': {'text': \"There aren't a lot of results near you. Try something more general, reset your filters, or expand the search area.\"},\n",
       "  'headerLocation': 'The Beaches',\n",
       "  'headerFullLocation': 'The Beaches, Toronto',\n",
       "  'headerLocationGranularity': 'neighborhood',\n",
       "  'totalResults': 3,\n",
       "  'suggestedBounds': {'ne': {'lat': 43.67815740179999,\n",
       "    'lng': -79.2905470857962},\n",
       "   'sw': {'lat': 43.674557398199994, 'lng': -79.2955153142038}},\n",
       "  'groups': [{'type': 'Recommended Places',\n",
       "    'name': 'recommended',\n",
       "    'items': [{'reasons': {'count': 0,\n",
       "       'items': [{'summary': 'This spot is popular',\n",
       "         'type': 'general',\n",
       "         'reasonName': 'globalInteractionReason'}]},\n",
       "      'venue': {'id': '4bd461bc77b29c74a07d9282',\n",
       "       'name': 'Glen Manor Ravine',\n",
       "       'location': {'address': 'Glen Manor',\n",
       "        'crossStreet': 'Queen St.',\n",
       "        'lat': 43.67682094413784,\n",
       "        'lng': -79.29394208780985,\n",
       "        'labeledLatLngs': [{'label': 'display',\n",
       "          'lat': 43.67682094413784,\n",
       "          'lng': -79.29394208780985}],\n",
       "        'distance': 89,\n",
       "        'cc': 'CA',\n",
       "        'city': 'Toronto',\n",
       "        'state': 'ON',\n",
       "        'country': 'Canada',\n",
       "        'formattedAddress': ['Glen Manor (Queen St.)',\n",
       "         'Toronto ON',\n",
       "         'Canada']},\n",
       "       'categories': [{'id': '4bf58dd8d48988d159941735',\n",
       "         'name': 'Trail',\n",
       "         'pluralName': 'Trails',\n",
       "         'shortName': 'Trail',\n",
       "         'icon': {'prefix': 'https://ss3.4sqi.net/img/categories_v2/parks_outdoors/hikingtrail_',\n",
       "          'suffix': '.png'},\n",
       "         'primary': True}],\n",
       "       'photos': {'count': 0, 'groups': []}},\n",
       "      'referralId': 'e-0-4bd461bc77b29c74a07d9282-0'},\n",
       "     {'reasons': {'count': 0,\n",
       "       'items': [{'summary': 'This spot is popular',\n",
       "         'type': 'general',\n",
       "         'reasonName': 'globalInteractionReason'}]},\n",
       "      'venue': {'id': '56afcad6498e05333bf42031',\n",
       "       'name': 'Glen Stewart Ravine',\n",
       "       'location': {'lat': 43.67629984029563,\n",
       "        'lng': -79.2947841389563,\n",
       "        'labeledLatLngs': [{'label': 'display',\n",
       "          'lat': 43.67629984029563,\n",
       "          'lng': -79.2947841389563}],\n",
       "        'distance': 141,\n",
       "        'cc': 'CA',\n",
       "        'country': 'Canada',\n",
       "        'formattedAddress': ['Canada']},\n",
       "       'categories': [{'id': '4bf58dd8d48988d162941735',\n",
       "         'name': 'Other Great Outdoors',\n",
       "         'pluralName': 'Other Great Outdoors',\n",
       "         'shortName': 'Other Outdoors',\n",
       "         'icon': {'prefix': 'https://ss3.4sqi.net/img/categories_v2/parks_outdoors/outdoors_',\n",
       "          'suffix': '.png'},\n",
       "         'primary': True}],\n",
       "       'photos': {'count': 0, 'groups': []}},\n",
       "      'referralId': 'e-0-56afcad6498e05333bf42031-1'},\n",
       "     {'reasons': {'count': 0,\n",
       "       'items': [{'summary': 'This spot is popular',\n",
       "         'type': 'general',\n",
       "         'reasonName': 'globalInteractionReason'}]},\n",
       "      'venue': {'id': '4dbc8fe96a23e294ba3237bd',\n",
       "       'name': 'Glen Stewart Park',\n",
       "       'location': {'address': '131 Glen Manor Drive',\n",
       "        'lat': 43.67527822698259,\n",
       "        'lng': -79.2946465494184,\n",
       "        'labeledLatLngs': [{'label': 'display',\n",
       "          'lat': 43.67527822698259,\n",
       "          'lng': -79.2946465494184}],\n",
       "        'distance': 177,\n",
       "        'cc': 'CA',\n",
       "        'city': 'Toronto',\n",
       "        'state': 'ON',\n",
       "        'country': 'Canada',\n",
       "        'formattedAddress': ['131 Glen Manor Drive', 'Toronto ON', 'Canada']},\n",
       "       'categories': [{'id': '4bf58dd8d48988d163941735',\n",
       "         'name': 'Park',\n",
       "         'pluralName': 'Parks',\n",
       "         'shortName': 'Park',\n",
       "         'icon': {'prefix': 'https://ss3.4sqi.net/img/categories_v2/parks_outdoors/park_',\n",
       "          'suffix': '.png'},\n",
       "         'primary': True}],\n",
       "       'photos': {'count': 0, 'groups': []}},\n",
       "      'referralId': 'e-0-4dbc8fe96a23e294ba3237bd-2'}]}]}}"
      ]
     },
     "execution_count": 84,
     "metadata": {},
     "output_type": "execute_result"
    }
   ],
   "source": [
    "results = requests.get(url).json()\n",
    "results"
   ]
  },
  {
   "cell_type": "code",
   "execution_count": 85,
   "metadata": {},
   "outputs": [],
   "source": [
    "# function that extracts the category of the venue\n",
    "def get_category_type(row):\n",
    "    try:\n",
    "        categories_list = row['categories']\n",
    "    except:\n",
    "        categories_list = row['venue.categories']\n",
    "        \n",
    "    if len(categories_list) == 0:\n",
    "        return None\n",
    "    else:\n",
    "        return categories_list[0]['name']"
   ]
  },
  {
   "cell_type": "markdown",
   "metadata": {},
   "source": [
    "### Cleaning the json file and structuring into a pandas dataframe"
   ]
  },
  {
   "cell_type": "code",
   "execution_count": 86,
   "metadata": {},
   "outputs": [
    {
     "name": "stderr",
     "output_type": "stream",
     "text": [
      "C:\\Users\\ASAD\\anaconda3\\lib\\site-packages\\ipykernel_launcher.py:3: FutureWarning: pandas.io.json.json_normalize is deprecated, use pandas.json_normalize instead\n",
      "  This is separate from the ipykernel package so we can avoid doing imports until\n"
     ]
    },
    {
     "data": {
      "text/html": [
       "<div>\n",
       "<style scoped>\n",
       "    .dataframe tbody tr th:only-of-type {\n",
       "        vertical-align: middle;\n",
       "    }\n",
       "\n",
       "    .dataframe tbody tr th {\n",
       "        vertical-align: top;\n",
       "    }\n",
       "\n",
       "    .dataframe thead th {\n",
       "        text-align: right;\n",
       "    }\n",
       "</style>\n",
       "<table border=\"1\" class=\"dataframe\">\n",
       "  <thead>\n",
       "    <tr style=\"text-align: right;\">\n",
       "      <th></th>\n",
       "      <th>name</th>\n",
       "      <th>categories</th>\n",
       "      <th>lat</th>\n",
       "      <th>lng</th>\n",
       "    </tr>\n",
       "  </thead>\n",
       "  <tbody>\n",
       "    <tr>\n",
       "      <th>0</th>\n",
       "      <td>Glen Manor Ravine</td>\n",
       "      <td>Trail</td>\n",
       "      <td>43.676821</td>\n",
       "      <td>-79.293942</td>\n",
       "    </tr>\n",
       "    <tr>\n",
       "      <th>1</th>\n",
       "      <td>Glen Stewart Ravine</td>\n",
       "      <td>Other Great Outdoors</td>\n",
       "      <td>43.676300</td>\n",
       "      <td>-79.294784</td>\n",
       "    </tr>\n",
       "    <tr>\n",
       "      <th>2</th>\n",
       "      <td>Glen Stewart Park</td>\n",
       "      <td>Park</td>\n",
       "      <td>43.675278</td>\n",
       "      <td>-79.294647</td>\n",
       "    </tr>\n",
       "  </tbody>\n",
       "</table>\n",
       "</div>"
      ],
      "text/plain": [
       "                  name            categories        lat        lng\n",
       "0    Glen Manor Ravine                 Trail  43.676821 -79.293942\n",
       "1  Glen Stewart Ravine  Other Great Outdoors  43.676300 -79.294784\n",
       "2    Glen Stewart Park                  Park  43.675278 -79.294647"
      ]
     },
     "execution_count": 86,
     "metadata": {},
     "output_type": "execute_result"
    }
   ],
   "source": [
    "venues = results['response']['groups'][0]['items']\n",
    "    \n",
    "nearby_venues = json_normalize(venues) # flatten JSON\n",
    "\n",
    "# filter columns\n",
    "filtered_columns = ['venue.name', 'venue.categories', 'venue.location.lat', 'venue.location.lng']\n",
    "nearby_venues =nearby_venues.loc[:, filtered_columns]\n",
    "\n",
    "# filter the category for each row\n",
    "nearby_venues['venue.categories'] = nearby_venues.apply(get_category_type, axis=1)\n",
    "\n",
    "# clean columns\n",
    "nearby_venues.columns = [col.split(\".\")[-1] for col in nearby_venues.columns]\n",
    "\n",
    "nearby_venues.head(10)"
   ]
  },
  {
   "cell_type": "markdown",
   "metadata": {},
   "source": [
    "### Total Venues returned by Foursquare with the defined filter (Radius = 200, Limit = 20)"
   ]
  },
  {
   "cell_type": "code",
   "execution_count": 87,
   "metadata": {},
   "outputs": [
    {
     "name": "stdout",
     "output_type": "stream",
     "text": [
      "3 venues were returned by Foursquare.\n"
     ]
    }
   ],
   "source": [
    "print('{} venues were returned by Foursquare.'.format(nearby_venues.shape[0]))"
   ]
  },
  {
   "cell_type": "markdown",
   "metadata": {},
   "source": [
    "#### Thank You!"
   ]
  },
  {
   "cell_type": "code",
   "execution_count": null,
   "metadata": {},
   "outputs": [],
   "source": []
  }
 ],
 "metadata": {
  "kernelspec": {
   "display_name": "Python 3",
   "language": "python",
   "name": "python3"
  },
  "language_info": {
   "codemirror_mode": {
    "name": "ipython",
    "version": 3
   },
   "file_extension": ".py",
   "mimetype": "text/x-python",
   "name": "python",
   "nbconvert_exporter": "python",
   "pygments_lexer": "ipython3",
   "version": "3.7.6"
  }
 },
 "nbformat": 4,
 "nbformat_minor": 4
}
